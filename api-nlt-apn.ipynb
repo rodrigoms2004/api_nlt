{
 "cells": [
  {
   "cell_type": "markdown",
   "id": "5c263ebe",
   "metadata": {},
   "source": [
    "# API APN NLT"
   ]
  },
  {
   "cell_type": "markdown",
   "id": "80c79846",
   "metadata": {},
   "source": [
    "## Libs"
   ]
  },
  {
   "cell_type": "code",
   "execution_count": null,
   "id": "943547dc",
   "metadata": {},
   "outputs": [],
   "source": [
    "import pandas as pd\n",
    "import numpy as np\n",
    "import requests\n",
    "import json"
   ]
  },
  {
   "cell_type": "markdown",
   "id": "46b5fc4a",
   "metadata": {},
   "source": [
    "## API"
   ]
  },
  {
   "cell_type": "code",
   "execution_count": null,
   "id": "28d94204",
   "metadata": {},
   "outputs": [],
   "source": [
    "url = \"https://gsm-clients.nlt-iot.com\""
   ]
  },
  {
   "cell_type": "markdown",
   "id": "35da5ecd",
   "metadata": {},
   "source": [
    "### Get credentials"
   ]
  },
  {
   "cell_type": "code",
   "execution_count": null,
   "id": "321ba6aa",
   "metadata": {},
   "outputs": [],
   "source": [
    "def getToken():\n",
    "    with open('auth.json', 'r') as f:\n",
    "        auth = json.load(f)\n",
    "    \n",
    "    payload = json.dumps({\n",
    "      \"email\": auth['email'],\n",
    "      \"password\": auth['password']\n",
    "    })\n",
    "    headers = {\n",
    "      'Content-Type': 'application/json'\n",
    "    }\n",
    "\n",
    "    response = requests.request(\"POST\", url + \"/token\", headers=headers, data=payload)\n",
    "    return response.json()['access_token']"
   ]
  },
  {
   "cell_type": "code",
   "execution_count": null,
   "id": "49a83f2c",
   "metadata": {},
   "outputs": [],
   "source": [
    "token = getToken()"
   ]
  },
  {
   "cell_type": "markdown",
   "id": "966d6f1c",
   "metadata": {},
   "source": [
    "### Get status"
   ]
  },
  {
   "cell_type": "code",
   "execution_count": null,
   "id": "0e6b3114",
   "metadata": {},
   "outputs": [],
   "source": [
    "#msisdn = \"5511...\""
   ]
  },
  {
   "cell_type": "code",
   "execution_count": null,
   "id": "f16eff84",
   "metadata": {},
   "outputs": [],
   "source": [
    "def getStatus (msisdn, token):\n",
    "    payload={}\n",
    "    headers = {\n",
    "      'Authorization': 'Bearer ' + token\n",
    "    }\n",
    "\n",
    "    response = requests.request(\"GET\", url + \"/v1/lines/status/\" + msisdn, headers=headers, data=payload)\n",
    "    return response.json()"
   ]
  },
  {
   "cell_type": "code",
   "execution_count": null,
   "id": "88389791",
   "metadata": {},
   "outputs": [],
   "source": [
    "#status = getStatus(msisdn, token)"
   ]
  },
  {
   "cell_type": "markdown",
   "id": "1695cddb",
   "metadata": {},
   "source": [
    "### Check APN "
   ]
  },
  {
   "cell_type": "code",
   "execution_count": null,
   "id": "91ab14a6",
   "metadata": {},
   "outputs": [],
   "source": [
    "defaultAPN = \"apn.xpto\""
   ]
  },
  {
   "cell_type": "code",
   "execution_count": null,
   "id": "7a2c55e7",
   "metadata": {},
   "outputs": [],
   "source": [
    "def checkForAPN(apnToBeFound, status):\n",
    "    isAPN = False\n",
    "    apns = status['apns']\n",
    "    for apn in apns:\n",
    "        if apn.find(apnToBeFound) != -1:\n",
    "            isAPN = True\n",
    "\n",
    "    return isAPN"
   ]
  },
  {
   "cell_type": "code",
   "execution_count": null,
   "id": "33adbe0e",
   "metadata": {},
   "outputs": [],
   "source": [
    "#checkForAPN(defaultAPN, status)"
   ]
  },
  {
   "cell_type": "markdown",
   "id": "9f09fc3d",
   "metadata": {},
   "source": [
    "### Add APN "
   ]
  },
  {
   "cell_type": "code",
   "execution_count": null,
   "id": "8a3b0ac5",
   "metadata": {},
   "outputs": [],
   "source": [
    "def addAPN(apn_name, msisdn, token):\n",
    "    payload = json.dumps({\n",
    "      \"msisdn\": msisdn,\n",
    "      \"apn\": apn_name\n",
    "    })\n",
    "    headers = {\n",
    "      'Authorization': 'Bearer ' + token,\n",
    "      'Content-Type': 'application/json'\n",
    "    }\n",
    "    response = requests.request(\"POST\", url + \"/v1/lines/provisioning-apn\", headers=headers, data=payload)\n",
    "    \n",
    "    return response.json()"
   ]
  },
  {
   "cell_type": "code",
   "execution_count": null,
   "id": "04be33bf",
   "metadata": {},
   "outputs": [],
   "source": [
    "resp = addAPN(defaultAPN, msisdn, token)"
   ]
  },
  {
   "cell_type": "markdown",
   "id": "2e473c0b",
   "metadata": {},
   "source": [
    "## Mass aprovisioning"
   ]
  },
  {
   "cell_type": "code",
   "execution_count": null,
   "id": "64dc21e2",
   "metadata": {},
   "outputs": [],
   "source": [
    "df = pd.read_excel(\"data/lista_msisdn.xlsx\")\n",
    "df.shape"
   ]
  },
  {
   "cell_type": "code",
   "execution_count": null,
   "id": "3d545696",
   "metadata": {},
   "outputs": [],
   "source": [
    "lotes = [1234, 5678]\n",
    "df_lotes = df[df[\"Nº LOTE\"].isin(lotes)]\n",
    "\n",
    "df_lotes.shape"
   ]
  },
  {
   "cell_type": "code",
   "execution_count": null,
   "id": "935ad24f",
   "metadata": {},
   "outputs": [],
   "source": [
    "token = getToken()"
   ]
  },
  {
   "cell_type": "code",
   "execution_count": null,
   "id": "f6bdf0a9",
   "metadata": {},
   "outputs": [],
   "source": [
    "has_apn = []\n",
    "has_not_apn = []\n",
    "\n",
    "for index, row in df_lotes.iterrows():\n",
    "    msisdn = str(row[\"NÚMERO\"])\n",
    "    status = getStatus(msisdn, token)\n",
    "    if checkForAPN(defaultAPN, status):\n",
    "        has_apn.append(msisdn)\n",
    "        print(\"APN is already setup in \", msisdn)\n",
    "    else:\n",
    "        has_not_apn.append(msisdn)\n",
    "        resp = addAPN(defaultAPN, msisdn, token)\n",
    "        print(resp)"
   ]
  },
  {
   "cell_type": "code",
   "execution_count": null,
   "id": "b63154c4",
   "metadata": {},
   "outputs": [],
   "source": [
    "len(has_not_apn)"
   ]
  },
  {
   "cell_type": "code",
   "execution_count": null,
   "id": "6056e4dc",
   "metadata": {},
   "outputs": [],
   "source": [
    "len(has_apn)"
   ]
  },
  {
   "cell_type": "code",
   "execution_count": null,
   "id": "20489b7e",
   "metadata": {},
   "outputs": [],
   "source": []
  }
 ],
 "metadata": {
  "kernelspec": {
   "display_name": "Python 3 (ipykernel)",
   "language": "python",
   "name": "python3"
  },
  "language_info": {
   "codemirror_mode": {
    "name": "ipython",
    "version": 3
   },
   "file_extension": ".py",
   "mimetype": "text/x-python",
   "name": "python",
   "nbconvert_exporter": "python",
   "pygments_lexer": "ipython3",
   "version": "3.9.7"
  }
 },
 "nbformat": 4,
 "nbformat_minor": 5
}
